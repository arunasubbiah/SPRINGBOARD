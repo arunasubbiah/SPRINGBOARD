{
 "cells": [
  {
   "cell_type": "markdown",
   "metadata": {},
   "source": [
    "This exercise will require you to pull some data from the Qunadl API. Qaundl is currently the most widely used aggregator of financial market data."
   ]
  },
  {
   "cell_type": "markdown",
   "metadata": {},
   "source": [
    "As a first step, you will need to register a free account on the http://www.quandl.com website."
   ]
  },
  {
   "cell_type": "markdown",
   "metadata": {},
   "source": [
    "After you register, you will be provided with a unique API key, that you should store:"
   ]
  },
  {
   "cell_type": "code",
   "execution_count": 145,
   "metadata": {},
   "outputs": [],
   "source": [
    "# Store the API key as a string - according to PEP8, constants are always named in all upper case\n",
    "API_KEY = ''"
   ]
  },
  {
   "cell_type": "markdown",
   "metadata": {},
   "source": [
    "Qaundl has a large number of data sources, but, unfortunately, most of them require a Premium subscription. Still, there are also a good number of free datasets."
   ]
  },
  {
   "cell_type": "markdown",
   "metadata": {},
   "source": [
    "For this mini project, we will focus on equities data from the Frankfurt Stock Exhange (FSE), which is available for free. We'll try and analyze the stock prices of a company called Carl Zeiss Meditec, which manufactures tools for eye examinations, as well as medical lasers for laser eye surgery: https://www.zeiss.com/meditec/int/home.html. The company is listed under the stock ticker AFX_X."
   ]
  },
  {
   "cell_type": "markdown",
   "metadata": {},
   "source": [
    "You can find the detailed Quandl API instructions here: https://docs.quandl.com/docs/time-series"
   ]
  },
  {
   "cell_type": "markdown",
   "metadata": {},
   "source": [
    "While there is a dedicated Python package for connecting to the Quandl API, we would prefer that you use the *requests* package, which can be easily downloaded using *pip* or *conda*. You can find the documentation for the package here: http://docs.python-requests.org/en/master/ "
   ]
  },
  {
   "cell_type": "markdown",
   "metadata": {},
   "source": [
    "Finally, apart from the *requests* package, you are encouraged to not use any third party Python packages, such as *pandas*, and instead focus on what's available in the Python Standard Library (the *collections* module might come in handy: https://pymotw.com/3/collections/ ).\n",
    "Also, since you won't have access to DataFrames, you are encouraged to us Python's native data structures - preferably dictionaries, though some questions can also be answered using lists.\n",
    "You can read more on these data structures here: https://docs.python.org/3/tutorial/datastructures.html"
   ]
  },
  {
   "cell_type": "markdown",
   "metadata": {},
   "source": [
    "Keep in mind that the JSON responses you will be getting from the API map almost one-to-one to Python's dictionaries. Unfortunately, they can be very nested, so make sure you read up on indexing dictionaries in the documentation provided above."
   ]
  },
  {
   "cell_type": "code",
   "execution_count": 146,
   "metadata": {},
   "outputs": [],
   "source": [
    "# First, import the relevant modules\n",
    "import requests"
   ]
  },
  {
   "cell_type": "code",
   "execution_count": 154,
   "metadata": {},
   "outputs": [],
   "source": [
    "# Now, call the Quandl API and pull out a small sample of the data (only one day) to get a glimpse\n",
    "# into the JSON structure that will be returned\n",
    "FSE_AFX_X_sample = requests.get('https://www.quandl.com/api/v3/datasets/FSE/AFX_X.json?api_key='+API_KEY+'&start_date=2017-02-01&end_date=2017-02-01')"
   ]
  },
  {
   "cell_type": "code",
   "execution_count": 155,
   "metadata": {},
   "outputs": [
    {
     "data": {
      "text/plain": [
       "{'dataset': {'id': 10095370,\n",
       "  'dataset_code': 'AFX_X',\n",
       "  'database_code': 'FSE',\n",
       "  'name': 'Carl Zeiss Meditec (AFX_X)',\n",
       "  'description': 'Stock Prices for Carl Zeiss Meditec (2019-09-12) from the Frankfurt Stock Exchange.<br><br>Trading System: Xetra<br><br>ISIN: DE0005313704',\n",
       "  'refreshed_at': '2019-09-26T22:16:52.492Z',\n",
       "  'newest_available_date': '2019-09-26',\n",
       "  'oldest_available_date': '2000-06-07',\n",
       "  'column_names': ['Date',\n",
       "   'Open',\n",
       "   'High',\n",
       "   'Low',\n",
       "   'Close',\n",
       "   'Change',\n",
       "   'Traded Volume',\n",
       "   'Turnover',\n",
       "   'Last Price of the Day',\n",
       "   'Daily Traded Units',\n",
       "   'Daily Turnover'],\n",
       "  'frequency': 'daily',\n",
       "  'type': 'Time Series',\n",
       "  'premium': False,\n",
       "  'limit': None,\n",
       "  'transform': None,\n",
       "  'column_index': None,\n",
       "  'start_date': '2017-02-01',\n",
       "  'end_date': '2017-02-01',\n",
       "  'data': [['2017-02-01',\n",
       "    34.75,\n",
       "    36.0,\n",
       "    34.75,\n",
       "    35.94,\n",
       "    None,\n",
       "    85137.0,\n",
       "    3038172.0,\n",
       "    None,\n",
       "    None,\n",
       "    None]],\n",
       "  'collapse': None,\n",
       "  'order': None,\n",
       "  'database_id': 6129}}"
      ]
     },
     "execution_count": 155,
     "metadata": {},
     "output_type": "execute_result"
    }
   ],
   "source": [
    "# Inspect the JSON structure of the object you created, and take note of how nested it is,\n",
    "# as well as the overall structure\n",
    "df = FSE_AFX_X_sample.json()\n",
    "df"
   ]
  },
  {
   "cell_type": "markdown",
   "metadata": {},
   "source": [
    "These are your tasks for this mini project:\n",
    "\n",
    "1. Collect data from the Franfurt Stock Exchange, for the ticker AFX_X, for the whole year 2017 (keep in mind that the date format is YYYY-MM-DD).\n",
    "2. Convert the returned JSON object into a Python dictionary.\n",
    "3. Calculate what the highest and lowest opening prices were for the stock in this period.\n",
    "4. What was the largest change in any one day (based on High and Low price)?\n",
    "5. What was the largest change between any two days (based on Closing Price)?\n",
    "6. What was the average daily trading volume during this year?\n",
    "7. (Optional) What was the median trading volume during this year. (Note: you may need to implement your own function for calculating the median.)"
   ]
  },
  {
   "cell_type": "markdown",
   "metadata": {
    "collapsed": true
   },
   "source": [
    "### Solutions\n",
    "#### 1. Collect data from the Franfurt Stock Exchange, for the ticker AFX_X, for the whole year 2017 (keep in mind that the date format is YYYY-MM-DD)."
   ]
  },
  {
   "cell_type": "code",
   "execution_count": 156,
   "metadata": {},
   "outputs": [],
   "source": [
    "#Extract Carl Zeiss Meditec (AFX_X) dataset from Franfurt Stock Exchange database for the whole year 2017\n",
    "FSE_AFX_X_2017 = requests.get('https://www.quandl.com/api/v3/datasets/FSE/AFX_X.json?api_key='+API_KEY+'&start_date=2017-01-01&end_date=2017-12-31')"
   ]
  },
  {
   "cell_type": "markdown",
   "metadata": {},
   "source": [
    "#### 2. Convert the returned JSON object into a Python dictionary."
   ]
  },
  {
   "cell_type": "code",
   "execution_count": 157,
   "metadata": {},
   "outputs": [
    {
     "data": {
      "text/plain": [
       "dict"
      ]
     },
     "execution_count": 157,
     "metadata": {},
     "output_type": "execute_result"
    }
   ],
   "source": [
    "FSE_AFX_X_2017_dict = FSE_AFX_X_2017.json()\n",
    "type(FSE_AFX_X_2017_dict)"
   ]
  },
  {
   "cell_type": "code",
   "execution_count": 158,
   "metadata": {},
   "outputs": [
    {
     "name": "stdout",
     "output_type": "stream",
     "text": [
      "['Date', 'Open', 'High', 'Low', 'Close', 'Change', 'Traded Volume', 'Turnover', 'Last Price of the Day', 'Daily Traded Units', 'Daily Turnover']\n"
     ]
    }
   ],
   "source": [
    "#Create a list of columns\n",
    "FSE_AFX_X_2017_columnlist = FSE_AFX_X_2017_dict['dataset']['column_names']\n",
    "print(FSE_AFX_X_2017_columnlist)\n",
    "\n",
    "#Create a list of data for the column\n",
    "FSE_AFX_X_2017_datalist = FSE_AFX_X_2017_dict['dataset']['data']\n",
    "\n",
    "#Get the index position for all the \n",
    "Open = FSE_AFX_X_2017_columnlist.index('Open')\n",
    "High = FSE_AFX_X_2017_columnlist.index('High')\n",
    "Low = FSE_AFX_X_2017_columnlist.index('Low')\n",
    "Close = FSE_AFX_X_2017_columnlist.index('Close')\n",
    "TradedVolume = FSE_AFX_X_2017_columnlist.index('Traded Volume')\n",
    "TradedVolumeUnits = FSE_AFX_X_2017_columnlist.index('Daily Traded Units')"
   ]
  },
  {
   "cell_type": "markdown",
   "metadata": {},
   "source": [
    "#### 3. Calculate what the highest and lowest opening prices were for the stock in this period."
   ]
  },
  {
   "cell_type": "code",
   "execution_count": 159,
   "metadata": {},
   "outputs": [
    {
     "name": "stdout",
     "output_type": "stream",
     "text": [
      "Highest Opening price 53.110000\n",
      "Lowest Opening price 34.000000\n"
     ]
    }
   ],
   "source": [
    "Open_2017 = []\n",
    "Open_2017 = [x[Open] for x in FSE_AFX_X_2017_datalist]\n",
    "\n",
    "#Open price has None values. Remove them so it can be used with min() & max()\n",
    "Open_2017 = [x for x in Open_2017 if x]\n",
    "\n",
    "print(\"Highest Opening price %f\" %max(Open_2017))\n",
    "print(\"Lowest Opening price %f\" %min(Open_2017))"
   ]
  },
  {
   "cell_type": "markdown",
   "metadata": {},
   "source": [
    "#### 4. What was the largest change in any one day (based on High and Low price)?"
   ]
  },
  {
   "cell_type": "code",
   "execution_count": 160,
   "metadata": {},
   "outputs": [
    {
     "name": "stdout",
     "output_type": "stream",
     "text": [
      "Largest change in one day 2.81\n"
     ]
    }
   ],
   "source": [
    "High_2017 = [x[High] for x in FSE_AFX_X_2017_datalist]\n",
    "Low_2017 = [x[Low] for x in FSE_AFX_X_2017_datalist]\n",
    "\n",
    "High_Low_Change = []\n",
    "length = len(High_2017)\n",
    "\n",
    "High_Low_Change = [(High_2017[i] - Low_2017[i]) for i in range(length)]\n",
    "print(\"Largest change in one day %0.2f\" %max(High_Low_Change))  "
   ]
  },
  {
   "cell_type": "markdown",
   "metadata": {},
   "source": [
    "#### 5. What was the largest change between any two days (based on Closing Price)?"
   ]
  },
  {
   "cell_type": "code",
   "execution_count": 161,
   "metadata": {},
   "outputs": [
    {
     "name": "stdout",
     "output_type": "stream",
     "text": [
      "Largest change between any two days 1.72\n"
     ]
    }
   ],
   "source": [
    "Close_2017 = [x[Close] for x in FSE_AFX_X_2017_datalist]\n",
    "length = len(Close_2017)\n",
    "Change_in_Close = []\n",
    "\n",
    "Change_in_Close = [(Close_2017[i] - Close_2017[i+1]) for i in range(length-1)]\n",
    "print(\"Largest change between any two days %0.2f\" %max(Change_in_Close))"
   ]
  },
  {
   "cell_type": "markdown",
   "metadata": {},
   "source": [
    "#### 6. What was the average daily trading volume during this year?"
   ]
  },
  {
   "cell_type": "code",
   "execution_count": 162,
   "metadata": {},
   "outputs": [
    {
     "name": "stdout",
     "output_type": "stream",
     "text": [
      "Average daily trading volume during this year 89124.34\n"
     ]
    }
   ],
   "source": [
    "TradedVolume_2017 = [x[TradedVolume] for x in FSE_AFX_X_2017_datalist]\n",
    "avgTradedVolume = sum(TradedVolume_2017)/len(TradedVolume_2017)\n",
    "\n",
    "print(\"Average daily trading volume during this year %0.2f\" %avgTradedVolume)"
   ]
  },
  {
   "cell_type": "markdown",
   "metadata": {},
   "source": [
    "#### 7. (Optional) What was the median trading volume during this year. (Note: you may need to implement your own function for calculating the median.)"
   ]
  },
  {
   "cell_type": "code",
   "execution_count": 163,
   "metadata": {},
   "outputs": [
    {
     "name": "stdout",
     "output_type": "stream",
     "text": [
      "Median trading volume during this year 76286.00\n"
     ]
    }
   ],
   "source": [
    "sortedTradedVolume_2017 = TradedVolume_2017\n",
    "sortedTradedVolume_2017.sort()\n",
    "\n",
    "def medianList(l):\n",
    "    length=len(l)\n",
    "    if (length % 2) == 1:\n",
    "        median = l[length//2]\n",
    "    else:\n",
    "        median = (l[length//2] + l[(length//2)-1])/2\n",
    "    return median\n",
    "\n",
    "print(\"Median trading volume during this year %0.2f\" %(medianList(sortedTradedVolume_2017)))"
   ]
  }
 ],
 "metadata": {
  "kernelspec": {
   "display_name": "Python 3",
   "language": "python",
   "name": "python3"
  },
  "language_info": {
   "codemirror_mode": {
    "name": "ipython",
    "version": 3
   },
   "file_extension": ".py",
   "mimetype": "text/x-python",
   "name": "python",
   "nbconvert_exporter": "python",
   "pygments_lexer": "ipython3",
   "version": "3.7.3"
  }
 },
 "nbformat": 4,
 "nbformat_minor": 2
}
